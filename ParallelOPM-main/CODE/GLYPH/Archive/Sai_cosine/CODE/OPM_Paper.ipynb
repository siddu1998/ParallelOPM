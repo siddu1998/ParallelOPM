{
 "cells": [
  {
   "cell_type": "code",
   "execution_count": 1,
   "metadata": {},
   "outputs": [
    {
     "name": "stdout",
     "output_type": "stream",
     "text": [
      "[INFO] Started!\n",
      "True\n"
     ]
    }
   ],
   "source": [
    "import os \n",
    "import json\n",
    "from PIL import Image, ImageDraw, ImageFont\n",
    "from sys import exit\n",
    "from snapshot_status import getStatus\n",
    "from getBoardID import get_board_ids\n",
    "import gif_builder\n",
    "import player_statistics\n",
    "from BuildNewGlyph import *\n",
    "import glob\n",
    "from copy import copy, deepcopy\n",
    "from datetime import datetime"
   ]
  },
  {
   "cell_type": "markdown",
   "metadata": {},
   "source": [
    "## Without any form of abstraction : Go Through each log file and find absolute cells. To board states are equal if and only if every link, semaphore and singal exactly align"
   ]
  },
  {
   "cell_type": "code",
   "execution_count": 14,
   "metadata": {},
   "outputs": [],
   "source": [
    "#load level log files\n",
    "log_files = \"../DATA/LEVEL_13_LOGS\"\n",
    "level = 13\n",
    "\n",
    "#map data  level 13 -> 8 rows 16 columns\n",
    "level_13_rows = 8\n",
    "level_13_columns = 16"
   ]
  },
  {
   "cell_type": "code",
   "execution_count": 15,
   "metadata": {},
   "outputs": [
    {
     "name": "stdout",
     "output_type": "stream",
     "text": [
      "[[0, 0, 0, 0, 0, 0, 0, 0, 0, 0, 0, 0, 0, 0, 0, 0, 0], [0, 0, 0, 0, 0, 0, 0, 0, 0, 0, 0, 0, 0, 0, 0, 0, 0], [0, 0, 0, 0, 0, 0, 0, 0, 0, 0, 0, 0, 0, 0, 0, 0, 0], [0, 0, 0, 0, 0, 0, 0, 0, 0, 0, 0, 0, 0, 0, 0, 0, 0], [0, 0, 0, 0, 0, 0, 0, 0, 0, 0, 0, 0, 0, 0, 0, 0, 0], [0, 0, 0, 0, 0, 0, 0, 0, 0, 0, 0, 0, 0, 0, 0, 0, 0], [0, 0, 0, 0, 0, 0, 0, 0, 0, 0, 0, 0, 0, 0, 0, 0, 0], [0, 0, 0, 0, 0, 0, 0, 0, 0, 0, 0, 0, 0, 0, 0, 0, 0], [0, 0, 0, 0, 0, 0, 0, 0, 0, 0, 0, 0, 0, 0, 0, 0, 0]]\n"
     ]
    }
   ],
   "source": [
    "total_states = 0\n",
    "absolute_data = {}\n",
    "for file in os.listdir(log_files):\n",
    "    empty_semaphore_matrix = [[0 for j in range(0,level_13_columns+1)] for i in range(0,level_13_rows+1)]\n",
    "    user = file.split('.')[0]\n",
    "    fileName = log_files+'/'+file            \n",
    "    data = json.load(open(fileName))\n",
    "    total_states+=len(data['events'])\n",
    "\n",
    "\n"
   ]
  },
  {
   "cell_type": "code",
   "execution_count": null,
   "metadata": {},
   "outputs": [],
   "source": []
  }
 ],
 "metadata": {
  "kernelspec": {
   "display_name": "Python 3.8.12 ('phd')",
   "language": "python",
   "name": "python3"
  },
  "language_info": {
   "codemirror_mode": {
    "name": "ipython",
    "version": 3
   },
   "file_extension": ".py",
   "mimetype": "text/x-python",
   "name": "python",
   "nbconvert_exporter": "python",
   "pygments_lexer": "ipython3",
   "version": "3.8.12"
  },
  "orig_nbformat": 4,
  "vscode": {
   "interpreter": {
    "hash": "da7aa709f8c2bfc334f0a553adca4b60578b1943fceaa209a138613bfa819cfe"
   }
  }
 },
 "nbformat": 4,
 "nbformat_minor": 2
}

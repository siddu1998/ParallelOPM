{
 "cells": [
  {
   "cell_type": "code",
   "execution_count": 1,
   "metadata": {},
   "outputs": [],
   "source": [
    "import networkx as nx\n",
    "import matplotlib.pyplot as plt\n",
    "import json \n",
    "from abstraction import GameState\n",
    "\n",
    "import os\n",
    "import uuid\n"
   ]
  },
  {
   "cell_type": "code",
   "execution_count": 2,
   "metadata": {},
   "outputs": [],
   "source": [
    "def GetAbstraction(fileName):\n",
    "    print(fileName)\n",
    "    \n",
    "    board_id     = 0\n",
    "    abstractions = []\n",
    "        \n",
    "    level = 7\n",
    "    try:\n",
    "        data = json.load(open(fileName))\n",
    "    except:\n",
    "        print('[ERROR] A game play with the eneterd data does not exist!')\n",
    "        print('[INFO] Please run the program again!')\n",
    "        exit()\n",
    "\n",
    "    required_elements = ['semaphore','signal']\n",
    "\n",
    "    gameStates = []\n",
    "#     print(\"[INFO] You are working with a snapshopt from the game of {}\".format(fileName))\n",
    "\n",
    "    for event in data['events']:\n",
    "        if event[\"type\"]==\"BOARD_SNAPSHOT\":\n",
    "            #Create a gameState\n",
    "            gameState = GameState(level,'../DATA/maps_with_zones/MapInfo_{}.json'.format(level))\n",
    "            components = event['board']['components']\n",
    "            #TODO : need to handle this 2 time iterations (since sometimes the data comes such that links are added before even the board state registers the semaphore :/)\n",
    "            for component in components:\n",
    "                if components[component]['type'] in required_elements:\n",
    "                    if components[component]['type'] == 'semaphore':\n",
    "                        cell = components[component]['cell']\n",
    "                        id   = components[component]['id']\n",
    "                        gameState.putSemaphore(cell[0],cell[1],id)\n",
    "            \n",
    "            for component in components:\n",
    "                if components[component]['type'] in required_elements:                \n",
    "                    if components[component]['type']=='signal':\n",
    "                        cell = components[component]['cell']\n",
    "                        id_1   = components[component]['id']\n",
    "                        id_2   = components[component]['link']\n",
    "                        gameState.putSignal(cell[0],cell[1],id_1,id_2)\n",
    "            \n",
    "            gameStates.append(gameState)\n",
    "            abstraction = gameState.getAbstraction()\n",
    "            abstractions.append(abstraction)\n",
    "\n",
    "    # print('-----------------------------------')\n",
    "    # print(f'[INFO] DONE! the number of Board States Abstraced are {len(gameStates)}')\n",
    "    return abstractions\n",
    "    "
   ]
  },
  {
   "cell_type": "code",
   "execution_count": null,
   "metadata": {},
   "outputs": [],
   "source": [
    "G = nx.Graph()\n",
    "all_abstractions = []    \n",
    "abstraction_uuid_map = {}\n",
    "log_files = \"../DATA/Logfiles\"\n",
    "\n",
    "#getting all unique nodes\n",
    "for fileName in os.listdir(log_files):   \n",
    "    abstractions = GetAbstraction('{}/{}'.format(log_files,fileName))\n",
    "    nAbstraction = len(abstractions) #number of nodes on the graph\n",
    "    print(fileName, nAbstraction)\n",
    "\n",
    "    for abstraction in abstractions:\n",
    "        if abstraction not in all_abstractions:\n",
    "            all_abstractions.append(abstraction)\n",
    "\n",
    "print(len(all_abstractions))\n",
    "#creating all unique nodes and giving id's\n",
    "for abstraction in all_abstractions:\n",
    "    id = str(uuid.uuid4())\n",
    "    abstraction_uuid_map[id] = abstraction\n",
    "    G.add_node(\n",
    "        id,\n",
    "        nSemaphores = abstraction['nSemaphores'],\n",
    "        nSignals = abstraction['nSignals'],\n",
    "        sempahore_zone_dict=str(abstraction['semaphore_zone_dict']),\n",
    "        signal_zone_dict=str(abstraction['signal_zone_dict']),\n",
    "        link_dict = str(abstraction['link_dict'])                   \n",
    "        )\n",
    "\n",
    "for fileName in os.listdir(log_files):   \n",
    "    abstractions = GetAbstraction('{}/{}'.format(log_files,fileName))\n",
    "    for index,abstraction in enumerate(abstractions):\n",
    "        key1 = None\n",
    "        key2 = None\n",
    "        for key in abstraction_uuid_map:\n",
    "            if abstraction_uuid_map[key]==abstraction:\n",
    "                key1 = key\n",
    "\n",
    "        if index+1 < len(abstractions):\n",
    "            next_node = abstractions[index+1]\n",
    "            for key in abstraction_uuid_map:\n",
    "                if abstraction_uuid_map[key]==next_node:\n",
    "                    key2 = key \n",
    "\n",
    "        if key1 and key2:\n",
    "            print('[INFO] Adding Edge Between {} and {}'.format(key1,key2))\n",
    "            G.add_edge(key1,key2)\n",
    "    print('--------')"
   ]
  },
  {
   "cell_type": "code",
   "execution_count": null,
   "metadata": {},
   "outputs": [],
   "source": [
    "nx.draw(G)\n",
    "plt.show()"
   ]
  },
  {
   "cell_type": "code",
   "execution_count": 3,
   "metadata": {},
   "outputs": [],
   "source": [
    "origin_abstraction = {'nSignals': 0, 'adjaceny_matrix': [[0, 0, 0, 0, 0, 0, 0, 0, 0, 0, 0, 0], [0, 0, 0, 0, 0, 0, 0, 0, 0, 0, 0, 0], [0, 0, 0, 0, 0, 0, 0, 0, 0, 0, 0, 0], [0, 0, 0, 0, 0, 0, 0, 0, 0, 0, 0, 0], [0, 0, 0, 0, 0, 0, 0, 0, 0, 0, 0, 0], [0, 0, 0, 0, 0, 0, 0, 0, 0, 0, 0, 0], [0, 0, 0, 0, 0, 0, 0, 0, 0, 0, 0, 0], [0, 0, 0, 0, 0, 0, 0, 0, 0, 0, 0, 0], [0, 0, 0, 0, 0, 0, 0, 0, 0, 0, 0, 0], [0, 0, 0, 0, 0, 0, 0, 0, 0, 0, 0, 0], [0, 0, 0, 0, 0, 0, 0, 0, 0, 0, 0, 0], [0, 0, 0, 0, 0, 0, 0, 0, 0, 0, 0, 0]], 'link_dict': {}, 'nSemaphores': 0, 'signal_zone_dict': {}, 'semaphore_zone_dict': {}}\n",
    "solution_abstraction ={'link_dict': {'IG': 1, 'HF': 1}, 'adjaceny_matrix': [[0, 0, 0, 0, 0, 0, 0, 0, 0, 0, 0, 1], [0, 0, 0, 0, 0, 0, 0, 0, 0, 0, 0, 0], [0, 0, 0, 0, 0, 0, 0, 0, 0, 0, 0, 0], [0, 0, 0, 0, 0, 0, 0, 0, 0, 0, 0, 0], [0, 0, 0, 0, 0, 0, 0, 0, 0, 0, 0, 0], [0, 0, 0, 0, 0, 0, 0, 0, 0, 0, 0, 0], [0, 0, 0, 0, 0, 0, 0, 0, 0, 0, 0, 0], [0, 0, 0, 0, 0, 0, 0, 0, 0, 0, 0, 0], [0, 0, 0, 0, 0, 0, 0, 0, 0, 0, 0, 0], [0, 0, 0, 0, 0, 0, 0, 0, 1, 0, 0, 0], [0, 0, 0, 0, 0, 0, 0, 0, 0, 0, 0, 0], [0, 0, 0, 0, 0, 0, 0, 0, 0, 0, 0, 0]], 'semaphore_zone_dict': {'F': 1, 'G': 1}, 'nSemaphores': 2, 'nSignals': 2, 'signal_zone_dict': {'I': 1, 'H': 1}}"
   ]
  },
  {
   "cell_type": "code",
   "execution_count": null,
   "metadata": {},
   "outputs": [],
   "source": []
  },
  {
   "cell_type": "code",
   "execution_count": 15,
   "metadata": {},
   "outputs": [
    {
     "name": "stdout",
     "output_type": "stream",
     "text": [
      "[INFO] Avilable Game Traces:     \n",
      "0  :  03021ea9-78a2-434d-adc0-b9fd063d4291.json\n",
      "1  :  6c48747a-8c8c-43c5-8c7e-ff80f281b508.json\n",
      "2  :  81dc330b-4077-494b-91b3-fc8cc4fe2604.json\n",
      "3  :  8bbeff9b-9e06-4993-b919-c9cd59a77f16.json\n",
      "4  :  ae26b920-1410-437f-bcba-c481ec3098f0.json\n",
      "5  :  c057d16f-023e-491d-baee-371e5081939a.json\n",
      "6  :  f5d99f4b-d52e-412b-8111-54cbbafffcfb.json\n",
      "[USER] Please enter the  index of the trace id :  6\n",
      "../DATA/Logfiles/f5d99f4b-d52e-412b-8111-54cbbafffcfb.json\n",
      "9c7412aa-d7f5-4208-a410-cb4576c0e1f0\n",
      "db0428fa-4973-4625-8595-95c3de5ae288\n",
      "a794f395-96b0-47fa-95d6-9c6348c5f2e8\n",
      "[INFO] Adding Edge Between 9c7412aa-d7f5-4208-a410-cb4576c0e1f0 and 9c7412aa-d7f5-4208-a410-cb4576c0e1f0\n",
      "[INFO] Adding Edge Between 9c7412aa-d7f5-4208-a410-cb4576c0e1f0 and a794f395-96b0-47fa-95d6-9c6348c5f2e8\n",
      "[INFO] Adding Edge Between a794f395-96b0-47fa-95d6-9c6348c5f2e8 and db0428fa-4973-4625-8595-95c3de5ae288\n",
      "[INFO] Adding Edge Between db0428fa-4973-4625-8595-95c3de5ae288 and db0428fa-4973-4625-8595-95c3de5ae288\n"
     ]
    }
   ],
   "source": [
    "graphs           = []\n",
    "log_files = \"../DATA/Logfiles\"\n",
    "\n",
    "#getting all unique nodes\n",
    "# for fileName in os.listdir(log_files):   \n",
    "    \n",
    "#Create A New Graph\n",
    "traces = os.listdir(\"../DATA/Logfiles\")\n",
    "traces.sort()\n",
    "print(\"[INFO] Avilable Game Traces:     \")\n",
    "\n",
    "for index,value in enumerate(traces):\n",
    "    print(index,' : ',value)\n",
    "\n",
    "trace_id=int(input('[USER] Please enter the  index of the trace id :  '))\n",
    "fileName = traces[trace_id]\n",
    "\n",
    "G = nx.DiGraph()\n",
    "color_map = []\n",
    "\n",
    "unique_nodes = []\n",
    "abstraction_uuid_map = {}\n",
    "abstractions = GetAbstraction('{}/{}'.format(log_files,fileName))\n",
    "nAbstraction = len(abstractions) \n",
    "\n",
    "\n",
    "for abstraction in abstractions:\n",
    "\n",
    "    if abstraction not in unique_nodes:\n",
    "        unique_nodes.append(abstraction)\n",
    "        id = str(uuid.uuid4())\n",
    "    \n",
    "        abstraction_uuid_map[id] = abstraction\n",
    "        G.add_node(\n",
    "            id,\n",
    "            nSemaphores = abstraction['nSemaphores'],\n",
    "            nSignals = abstraction['nSignals'],\n",
    "            sempahore_zone_dict=str(abstraction['semaphore_zone_dict']),\n",
    "            signal_zone_dict=str(abstraction['signal_zone_dict']),\n",
    "            link_dict = str(abstraction['link_dict'])                   \n",
    "            )\n",
    "\n",
    "\n",
    "\n",
    "for nodes in G.nodes:\n",
    "    print(nodes)\n",
    "\n",
    "            \n",
    "for index,abstraction in enumerate(abstractions):\n",
    "    key1 = None\n",
    "    key2 = None\n",
    "    for key in abstraction_uuid_map:\n",
    "        if abstraction_uuid_map[key]==abstraction:\n",
    "            key1 = key\n",
    "\n",
    "    if index+1 < len(abstractions):\n",
    "        next_node = abstractions[index+1]\n",
    "        for key in abstraction_uuid_map:\n",
    "            if abstraction_uuid_map[key]==next_node:\n",
    "                key2 = key \n",
    "\n",
    "                \n",
    "    if key1 and key2:\n",
    "        print('[INFO] Adding Edge Between {} and {}'.format(key1,key2))\n",
    "        G.add_edge(key1,key2)\n",
    "\n",
    "        \n",
    "\n"
   ]
  },
  {
   "cell_type": "code",
   "execution_count": 16,
   "metadata": {},
   "outputs": [
    {
     "name": "stdout",
     "output_type": "stream",
     "text": [
      "==============EDGES===========\n",
      "('9c7412aa-d7f5-4208-a410-cb4576c0e1f0', '9c7412aa-d7f5-4208-a410-cb4576c0e1f0')\n",
      "('9c7412aa-d7f5-4208-a410-cb4576c0e1f0', 'a794f395-96b0-47fa-95d6-9c6348c5f2e8')\n",
      "('db0428fa-4973-4625-8595-95c3de5ae288', 'db0428fa-4973-4625-8595-95c3de5ae288')\n",
      "('a794f395-96b0-47fa-95d6-9c6348c5f2e8', 'db0428fa-4973-4625-8595-95c3de5ae288')\n",
      "===========NODES==============\n",
      "9c7412aa-d7f5-4208-a410-cb4576c0e1f0\n",
      "[INFO] Recivied Origin db0428fa-4973-4625-8595-95c3de5ae288\n",
      "db0428fa-4973-4625-8595-95c3de5ae288\n",
      "[INFO] Recivied Solution db0428fa-4973-4625-8595-95c3de5ae288\n",
      "a794f395-96b0-47fa-95d6-9c6348c5f2e8\n",
      "[INFO] Recived Wrong State db0428fa-4973-4625-8595-95c3de5ae288\n"
     ]
    }
   ],
   "source": [
    "print('==============EDGES===========')\n",
    "for edge in G.edges:\n",
    "    print(edge)\n",
    "\n",
    "color_map = []\n",
    "\n",
    "print('===========NODES==============')\n",
    "for node in G.nodes:\n",
    "    print(node)\n",
    "    if abstraction_uuid_map[node] == origin_abstraction:\n",
    "        color_map.append(\"blue\")\n",
    "        print('[INFO] Recivied Origin', id)\n",
    "\n",
    "    elif abstraction_uuid_map[node]['link_dict']=={'IG': 1, 'HF': 1}:\n",
    "        color_map.append(\"green\")\n",
    "        print('[INFO] Recivied Solution',id)\n",
    "\n",
    "    else:\n",
    "        print('[INFO] Recived Wrong State',id)\n",
    "        color_map.append(\"red\")\n"
   ]
  },
  {
   "cell_type": "code",
   "execution_count": 17,
   "metadata": {},
   "outputs": [
    {
     "data": {
      "image/png": "[encoded data removed]",
      "text/plain": [
       "<Figure size 432x288 with 1 Axes>"
      ]
     },
     "metadata": {
      "needs_background": "light"
     },
     "output_type": "display_data"
    },
    {
     "data": {
      "text/plain": [
       "<Figure size 8640x8640 with 0 Axes>"
      ]
     },
     "metadata": {},
     "output_type": "display_data"
    }
   ],
   "source": [
    "labels = {}    \n",
    "for node in G.nodes():\n",
    "    labels[node] = node\n",
    "\n",
    "        \n",
    "pos = nx.spring_layout(G)       \n",
    "nx.draw_networkx_nodes(G,pos, node_color=color_map)\n",
    "nx.draw_networkx_labels(G,pos,labels,font_size=12,font_color='r')\n",
    "nx.draw_networkx_edges(G, pos, edgelist= G.edges, width = 1, alpha = 1)\n",
    "\n",
    "\n",
    "plt.figure(figsize=(120,120)) \n",
    "plt.show()"
   ]
  },
  {
   "cell_type": "code",
   "execution_count": null,
   "metadata": {},
   "outputs": [],
   "source": []
  },
  {
   "cell_type": "code",
   "execution_count": null,
   "metadata": {},
   "outputs": [],
   "source": []
  }
 ],
 "metadata": {
  "kernelspec": {
   "display_name": "Python 3",
   "language": "python",
   "name": "python3"
  },
  "language_info": {
   "codemirror_mode": {
    "name": "ipython",
    "version": 3
   },
   "file_extension": ".py",
   "mimetype": "text/x-python",
   "name": "python",
   "nbconvert_exporter": "python",
   "pygments_lexer": "ipython3",
   "version": "3.5.2"
  }
 },
 "nbformat": 4,
 "nbformat_minor": 2
}
